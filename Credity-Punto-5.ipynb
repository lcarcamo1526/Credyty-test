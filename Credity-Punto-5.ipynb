{
  "nbformat": 4,
  "nbformat_minor": 0,
  "metadata": {
    "colab": {
      "name": "Copy of Untitled0.ipynb",
      "version": "0.3.2",
      "provenance": [],
      "collapsed_sections": [],
      "include_colab_link": true
    },
    "kernelspec": {
      "name": "python3",
      "display_name": "Python 3"
    },
    "accelerator": "GPU"
  },
  "cells": [
    {
      "cell_type": "markdown",
      "metadata": {
        "id": "view-in-github",
        "colab_type": "text"
      },
      "source": [
        "<a href=\"https://colab.research.google.com/github/lcarcamo1526/Credyty-test/blob/master/Credity-Punto-5.ipynb\" target=\"_parent\"><img src=\"https://colab.research.google.com/assets/colab-badge.svg\" alt=\"Open In Colab\"/></a>"
      ]
    },
    {
      "cell_type": "markdown",
      "metadata": {
        "id": "Ti4oewaARWqc",
        "colab_type": "text"
      },
      "source": [
        "## Importing libraries"
      ]
    },
    {
      "cell_type": "code",
      "metadata": {
        "id": "fsA00bGKRVFh",
        "colab_type": "code",
        "colab": {}
      },
      "source": [
        "import time"
      ],
      "execution_count": 0,
      "outputs": []
    },
    {
      "cell_type": "markdown",
      "metadata": {
        "id": "_WBzt5Sr311k",
        "colab_type": "text"
      },
      "source": [
        "## Pascal Class\n"
      ]
    },
    {
      "cell_type": "code",
      "metadata": {
        "id": "XcadqdhdY0YI",
        "colab_type": "code",
        "colab": {}
      },
      "source": [
        "class Pascal:\n",
        "    def gen_triangle(self,max) -> object:\n",
        "        \"\"\"\n",
        "        Generate a pascal triangle with n rows\n",
        "        :param max: Number of rows\n",
        "        :return: Pascal triangle\n",
        "        \"\"\"\n",
        "        upper_bound = [1] * (max + 1)\n",
        "        triangle = [upper_bound]\n",
        "        for i in range(max):\n",
        "            rows = []\n",
        "            for j in range(0, max - i):\n",
        "                rows.append(sum(triangle[-1][0:j + 1]))\n",
        "            triangle.append(rows)\n",
        "        return triangle\n",
        "\n",
        "    def check_divisors(self,num_rows, divisor):\n",
        "        \"\"\"\n",
        "        Return the num of divisors by n in pascal triangle\n",
        "        :param num_rows: Number of rows\n",
        "        :param divisor: divisor\n",
        "        :return: number of divisor\n",
        "        \"\"\"\n",
        "        triangle = self.gen_triangle(num_rows - 1)\n",
        "        result = 0\n",
        "        rows = [elem for elem_rows in triangle for elem in elem_rows]\n",
        "        for num in rows:\n",
        "            if num % divisor != 0:\n",
        "                result += 1\n",
        "        return result\n",
        "\n",
        "\n"
      ],
      "execution_count": 0,
      "outputs": []
    },
    {
      "cell_type": "markdown",
      "metadata": {
        "id": "4-Bz7Mj6OFy_",
        "colab_type": "text"
      },
      "source": [
        "### Number of divisors in 100 rows"
      ]
    },
    {
      "cell_type": "code",
      "metadata": {
        "id": "pr6ez6ku6s2Y",
        "colab_type": "code",
        "outputId": "b34b76cb-de8b-44d4-dbe3-67b49140f443",
        "colab": {
          "base_uri": "https://localhost:8080/",
          "height": 36
        }
      },
      "source": [
        "start = time.time()\n",
        "pascal = Pascal()\n",
        "divisor = pascal.check_divisors(100,7)\n",
        "print(\"Num of divisors : {0}, execution time in seconds :{1}\".format(divisor,time.time() - start))\n"
      ],
      "execution_count": 4,
      "outputs": [
        {
          "output_type": "stream",
          "text": [
            "Num of divisors : 2361, execution time in seconds :0.008844137191772461\n"
          ],
          "name": "stdout"
        }
      ]
    },
    {
      "cell_type": "markdown",
      "metadata": {
        "id": "P0X59368Jh4p",
        "colab_type": "text"
      },
      "source": [
        "## Number of divisors in 10^9 rows"
      ]
    },
    {
      "cell_type": "code",
      "metadata": {
        "id": "oGbaXnmKOOsU",
        "colab_type": "code",
        "colab": {}
      },
      "source": [
        "start = time.time()\n",
        "divisor = pascal.check_divisors(1000000,7)\n",
        "print(\"Num of divisors : {0}, execution time in seconds :{1}\".format(divisor,time.time() - start))"
      ],
      "execution_count": 0,
      "outputs": []
    }
  ]
}